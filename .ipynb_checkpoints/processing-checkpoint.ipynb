{
 "cells": [
  {
   "cell_type": "code",
   "execution_count": 2,
   "id": "b0dc767c-4feb-47e4-b85e-e77bd108e690",
   "metadata": {},
   "outputs": [],
   "source": [
    "import pandas as pd\n",
    "import numpy as np\n",
    "import matplotlib.pyplot as plt\n",
    "import sklearn as sk\n",
    "import scipy as sc\n",
    "import scipy.signal as scp\n",
    "import numpy.random as random\n",
    "from scipy.io import wavfile\n",
    "from IPython.display import Audio"
   ]
  },
  {
   "cell_type": "code",
   "execution_count": null,
   "id": "cd1d823c-8059-4d88-8e05-aa8f696d0cdd",
   "metadata": {},
   "outputs": [],
   "source": [
    "# Variables\n",
    "\n",
    "data_path = \"/data\"\n",
    "\n"
   ]
  },
  {
   "cell_type": "code",
   "execution_count": 3,
   "id": "c09d7bc4-45f4-4d54-a83c-b8194cd242d7",
   "metadata": {},
   "outputs": [],
   "source": [
    "# all data processing functions\n",
    "\n",
    "def generate_noisy(data):\n",
    "    \"\"\"\n",
    "    Generate two noisy variants of data.\n",
    "    \"\"\"\n",
    "    return data\n",
    "\n",
    "\n",
    "    "
   ]
  }
 ],
 "metadata": {
  "kernelspec": {
   "display_name": "Python 3",
   "language": "python",
   "name": "python3"
  },
  "language_info": {
   "codemirror_mode": {
    "name": "ipython",
    "version": 3
   },
   "file_extension": ".py",
   "mimetype": "text/x-python",
   "name": "python",
   "nbconvert_exporter": "python",
   "pygments_lexer": "ipython3",
   "version": "3.9.5"
  }
 },
 "nbformat": 4,
 "nbformat_minor": 5
}
