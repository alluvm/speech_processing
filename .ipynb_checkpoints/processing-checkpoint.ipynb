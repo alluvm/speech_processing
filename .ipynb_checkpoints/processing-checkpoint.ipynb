{
 "cells": [
  {
   "cell_type": "code",
   "execution_count": 1,
   "id": "b0dc767c-4feb-47e4-b85e-e77bd108e690",
   "metadata": {},
   "outputs": [
    {
     "name": "stdout",
     "output_type": "stream",
     "text": [
      "Collecting noisereduce\n",
      "  Downloading noisereduce-2.0.1-py3-none-any.whl (15 kB)\n",
      "Requirement already satisfied: matplotlib in /opt/software/lib/python3.9/site-packages (from noisereduce) (3.5.1)\n",
      "Requirement already satisfied: librosa in /opt/software/lib/python3.9/site-packages (from noisereduce) (0.9.1)\n",
      "Requirement already satisfied: scipy in /opt/software/lib/python3.9/site-packages (from noisereduce) (1.8.0)\n",
      "Requirement already satisfied: tqdm in /opt/software/lib/python3.9/site-packages (from noisereduce) (4.61.2)\n",
      "Requirement already satisfied: numpy in /opt/software/lib/python3.9/site-packages (from noisereduce) (1.19.5)\n",
      "Requirement already satisfied: joblib>=0.14 in /opt/software/lib/python3.9/site-packages (from librosa->noisereduce) (1.1.0)\n",
      "Requirement already satisfied: resampy>=0.2.2 in /opt/software/lib/python3.9/site-packages (from librosa->noisereduce) (0.2.2)\n",
      "Requirement already satisfied: decorator>=4.0.10 in /opt/software/lib/python3.9/site-packages (from librosa->noisereduce) (5.1.1)\n",
      "Requirement already satisfied: scikit-learn>=0.19.1 in /opt/software/lib/python3.9/site-packages (from librosa->noisereduce) (1.0.2)\n",
      "Requirement already satisfied: pooch>=1.0 in /opt/software/lib/python3.9/site-packages (from librosa->noisereduce) (1.6.0)\n",
      "Requirement already satisfied: audioread>=2.1.5 in /opt/software/lib/python3.9/site-packages (from librosa->noisereduce) (2.1.9)\n",
      "Requirement already satisfied: packaging>=20.0 in /opt/software/lib/python3.9/site-packages (from librosa->noisereduce) (21.3)\n",
      "Requirement already satisfied: numba>=0.45.1 in /opt/software/lib/python3.9/site-packages (from librosa->noisereduce) (0.55.1)\n",
      "Requirement already satisfied: soundfile>=0.10.2 in /opt/software/lib/python3.9/site-packages (from librosa->noisereduce) (0.10.3.post1)\n",
      "Requirement already satisfied: setuptools in /opt/software/lib/python3.9/site-packages (from numba>=0.45.1->librosa->noisereduce) (49.6.0.post20210108)\n",
      "Requirement already satisfied: llvmlite<0.39,>=0.38.0rc1 in /opt/software/lib/python3.9/site-packages (from numba>=0.45.1->librosa->noisereduce) (0.38.0)\n",
      "Requirement already satisfied: pyparsing!=3.0.5,>=2.0.2 in /opt/software/lib/python3.9/site-packages (from packaging>=20.0->librosa->noisereduce) (3.0.7)\n",
      "Requirement already satisfied: appdirs>=1.3.0 in /opt/software/lib/python3.9/site-packages (from pooch>=1.0->librosa->noisereduce) (1.4.4)\n",
      "Requirement already satisfied: requests>=2.19.0 in /opt/software/lib/python3.9/site-packages (from pooch>=1.0->librosa->noisereduce) (2.25.1)\n",
      "Requirement already satisfied: idna<3,>=2.5 in /opt/software/lib/python3.9/site-packages (from requests>=2.19.0->pooch>=1.0->librosa->noisereduce) (2.10)\n",
      "Requirement already satisfied: urllib3<1.27,>=1.21.1 in /opt/software/lib/python3.9/site-packages (from requests>=2.19.0->pooch>=1.0->librosa->noisereduce) (1.26.6)\n",
      "Requirement already satisfied: certifi>=2017.4.17 in /opt/software/lib/python3.9/site-packages (from requests>=2.19.0->pooch>=1.0->librosa->noisereduce) (2021.10.8)\n",
      "Requirement already satisfied: chardet<5,>=3.0.2 in /opt/software/lib/python3.9/site-packages (from requests>=2.19.0->pooch>=1.0->librosa->noisereduce) (4.0.0)\n",
      "Requirement already satisfied: six>=1.3 in /opt/software/lib/python3.9/site-packages (from resampy>=0.2.2->librosa->noisereduce) (1.15.0)\n",
      "Requirement already satisfied: threadpoolctl>=2.0.0 in /opt/software/lib/python3.9/site-packages (from scikit-learn>=0.19.1->librosa->noisereduce) (3.1.0)\n",
      "Requirement already satisfied: cffi>=1.0 in /opt/software/lib/python3.9/site-packages (from soundfile>=0.10.2->librosa->noisereduce) (1.14.6)\n",
      "Requirement already satisfied: pycparser in /opt/software/lib/python3.9/site-packages (from cffi>=1.0->soundfile>=0.10.2->librosa->noisereduce) (2.20)\n",
      "Requirement already satisfied: python-dateutil>=2.7 in /opt/software/lib/python3.9/site-packages (from matplotlib->noisereduce) (2.8.2)\n",
      "Requirement already satisfied: pillow>=6.2.0 in /opt/software/lib/python3.9/site-packages (from matplotlib->noisereduce) (9.0.1)\n",
      "Requirement already satisfied: fonttools>=4.22.0 in /opt/software/lib/python3.9/site-packages (from matplotlib->noisereduce) (4.29.1)\n",
      "Requirement already satisfied: kiwisolver>=1.0.1 in /opt/software/lib/python3.9/site-packages (from matplotlib->noisereduce) (1.3.2)\n",
      "Requirement already satisfied: cycler>=0.10 in /opt/software/lib/python3.9/site-packages (from matplotlib->noisereduce) (0.11.0)\n",
      "Installing collected packages: noisereduce\n",
      "Successfully installed noisereduce-2.0.1\n"
     ]
    },
    {
     "name": "stderr",
     "output_type": "stream",
     "text": [
      "Fontconfig error: Cannot load default config file: No such file: (null)\n"
     ]
    }
   ],
   "source": [
    "!pip install noisereduce\n",
    "import pandas as pd\n",
    "import numpy as np\n",
    "import matplotlib.pyplot as plt\n",
    "from scipy.signal import stft, istft\n",
    "from scipy.fft import fft, fftshift, fftfreq, ifft, ifftshift, dct\n",
    "import sklearn as sk\n",
    "import scipy as sc\n",
    "import scipy.signal as scp\n",
    "import numpy.random as rnd\n",
    "from scipy.io import wavfile\n",
    "from IPython.display import Audio\n",
    "import noisereduce as nr\n",
    "from sklearn.neighbors import KNeighborsClassifier as knn\n",
    "from sklearn.model_selection import train_test_split\n",
    "from sklearn import tree\n",
    "import os"
   ]
  },
  {
   "cell_type": "code",
   "execution_count": 2,
   "id": "fd7856c2-c42b-4dd3-ac4f-973436d2246c",
   "metadata": {},
   "outputs": [],
   "source": [
    "# Variables\n",
    "data_path = \"./data/1/\"\n",
    "data_folder = os.getcwd() + \"/data\"\n",
    "fs = 48000"
   ]
  },
  {
   "cell_type": "code",
   "execution_count": 3,
   "id": "c09d7bc4-45f4-4d54-a83c-b8194cd242d7",
   "metadata": {},
   "outputs": [],
   "source": [
    "# Utility Functions\n",
    "import librosa\n",
    "def create_dataset(root):\n",
    "    \"\"\"\n",
    "    Apply function to all files under root\n",
    "    returns 1 if succesfull, -1 if not.\n",
    "    \"\"\"\n",
    "    data    = []\n",
    "    labels  = []\n",
    "    lengths = []\n",
    "    \n",
    "    for dirpath, dirnames, filenames in os.walk(root):\n",
    "        for filename in filenames:\n",
    "\n",
    "            label = dirpath[-1]\n",
    "            _ , signal   = wavfile.read(f\"{dirpath}/{filename}\")\n",
    "            \n",
    "            \n",
    "            cleaned       = clean_data(signal)\n",
    "            \n",
    "            features   = MFCC(cleaned, fs)\n",
    "            features[features!=features] = 0\n",
    "            features   = np.insert(features, 0, len(cleaned))\n",
    "\n",
    "            feat_noisy = MFCC(generate_noisy(cleaned, 0.05), fs)\n",
    "            feat_noisy[feat_noisy!=feat_noisy] = 0\n",
    "            feat_noisy = np.insert(feat_noisy, 0, len(cleaned))\n",
    "\n",
    "            feat_noisy2 = MFCC(generate_noisy(cleaned, 0.1), fs)\n",
    "            feat_noisy2[feat_noisy2!=feat_noisy2] = 0\n",
    "            feat_noisy2 = np.insert(feat_noisy, 0, len(cleaned))\n",
    "            \n",
    "            if label != \"0\":              \n",
    "                data.append(features.flatten())\n",
    "                labels.append(label)\n",
    "                \n",
    "                data.append(feat_noisy.flatten())\n",
    "                labels.append(label)\n",
    "                \n",
    "                data.append(feat_noisy2.flatten())\n",
    "                labels.append(label)\n",
    "\n",
    "\n",
    "            \n",
    "    df = pd.DataFrame(data, index=labels).sort_index()\n",
    "    df[df!=df] = 0\n",
    "\n",
    "    return df\n",
    "\n",
    "def generate_noisy(data, ratio):\n",
    "    \"\"\"\n",
    "    Generate noisy variant of data.\n",
    "    noise is additive and normally distributed\n",
    "    \"\"\"\n",
    "    return data + rnd.normal(0,1,len(data)) * max(abs(data)) * ratio\n",
    "\n",
    "def clean_data(data):\n",
    "    \"\"\"\n",
    "    remove silent spaces and noise\n",
    "    \"\"\"\n",
    "    return data[abs(data) > abs(data).mean()*0.05] / max(abs(data))\n",
    "    \n",
    "def read_wav(path):\n",
    "    \"\"\"\n",
    "    Reads wav file\n",
    "    Returns time and signal vectors\n",
    "    \"\"\"\n",
    "    fs, signal = wavfile.read(path)\n",
    "    t = np.arange(0,len(signal)/fs, 1/fs)\n",
    "    return [t, signal]\n",
    "\n",
    "def remove_noise(data):\n",
    "    \"\"\"\n",
    "    Simple function to remove the noise from the signal data\n",
    "    \"\"\"\n",
    "    return nr.reduce_noise(y=data, sr=fs)\n",
    "\n",
    "def predict_input(audioname, model, scaler):\n",
    "    _, test_sample = wavfile.read(f\"./predict/{audioname}.wav\")\n",
    "    clean = clean_data(test_sample)\n",
    "    features = MFCC(clean, fs)\n",
    "    features[features!=features] = 0\n",
    "    features = np.insert(features, 0, len(clean))\n",
    "    features = np.pad(features, (0, 1214-len(features)))\n",
    "    features = np.tile(features, (10,1))\n",
    "    features = scaler.transform(features)\n",
    "\n",
    "    pred = model.predict(features)\n",
    "    vals, counts = np.unique(pred, return_counts = True)\n",
    "    return vals[0]\n",
    "        "
   ]
  },
  {
   "cell_type": "code",
   "execution_count": 4,
   "id": "0083caf0-9cb1-47ad-ba18-54cece73c24a",
   "metadata": {},
   "outputs": [],
   "source": [
    "# Feature extraction functions\n",
    "# http://practicalcryptography.com/miscellaneous/machine-learning/guide-mel-frequency-cepstral-coefficients-mfccs/\n",
    "\n",
    "def mel(f):\n",
    "    \"\"\"\n",
    "    Transform to mel space\n",
    "    \"\"\" \n",
    "    return 1127*np.log(1+f/700)\n",
    "\n",
    "def imel(m):\n",
    "    \"\"\"\n",
    "    Transform from mel space to frequency domain\n",
    "    \"\"\"\n",
    "    return 700*(np.exp(m/1127) - 1)\n",
    "\n",
    "def MFCC(signal, fs):\n",
    "    \"\"\"\n",
    "    HAS TO BE DEBUGGED\n",
    "    Compute mel frequency coefficients\n",
    "    \"\"\"\n",
    "    # compute spectrum for frames of 25 ms with 10 ms overlaps\n",
    "    Nfft = 2048\n",
    "    f, t, Z = stft(x=signal, fs=fs, window='hann', nperseg=fs*25e-3, noverlap=fs*10e-3, nfft=Nfft)\n",
    "    Nf = len(t) # number of frames in signal\n",
    "    Ncut = int(np.ceil(Nfft/6)) # 342 point spectrum\n",
    "    # turn each FFT window into power spectrum by scaling\n",
    "    P = np.zeros((Nf,Ncut))\n",
    "    for n in range(Nf):\n",
    "        Fcut = Z[:Ncut,n] # compute the 342 point power spectrum\n",
    "        P[n] = abs(Fcut)**2/Ncut\n",
    "    \n",
    "    # upper and lower frequency bounds in Hz converted to Mel scale\n",
    "    upperHz = 8000\n",
    "    lowerHz = 300\n",
    "    upperMel = mel(upperHz)\n",
    "    lowerMel = mel(lowerHz)\n",
    "    m = np.linspace(lowerMel,upperMel,28) # mel filterbank\n",
    "    h = imel(m) # filterbank in frequency domain\n",
    "    f = np.floor((Nfft+1)*h/fs) # filterbank as FFT bin indices\n",
    "    f = f.astype(int)\n",
    "    \n",
    "    # construct filters in filterbank\n",
    "    mfilters = np.zeros((26,342))\n",
    "    for n in range(26):\n",
    "        for i in range(len(f)):\n",
    "            if i != 0 and i != len(f)-1:\n",
    "                for iless in range(f[i]-f[i-1]):\n",
    "                    mfilters[n,f[i-1]+iless] = iless/(f[i]-f[i-1])\n",
    "                for imore in range(f[i+1]-f[i]):\n",
    "                    mfilters[n,f[i]+imore] = 1-imore/(f[i+1]-f[i])\n",
    "    \n",
    "    M = np.zeros((Nf,26))\n",
    "    # filter data with filterbank\n",
    "    for n in range(Nf):\n",
    "        for c in range(26):\n",
    "            M[n,c] = sum(mfilters[c]*P[n])\n",
    "    \n",
    "    # take the log discrete cosine transform of frame spectra\n",
    "    mfcc = np.zeros((Nf,12))\n",
    "    for n in range(Nf):\n",
    "        mfcc[n] = dct(np.log(M[n]), type=3)[1:13]\n",
    "    \n",
    "    # return ndarray with rows representing timeframes and \n",
    "    return mfcc\n"
   ]
  },
  {
   "cell_type": "code",
   "execution_count": 5,
   "id": "a5ecfd19-fa90-4164-9cae-26c67d41bcf8",
   "metadata": {},
   "outputs": [
    {
     "name": "stderr",
     "output_type": "stream",
     "text": [
      "/tmp/ipykernel_197/65687103.py:16: WavFileWarning: Chunk (non-data) not understood, skipping it.\n",
      "  _ , signal   = wavfile.read(f\"{dirpath}/{filename}\")\n",
      "/tmp/ipykernel_197/3257212282.py:61: RuntimeWarning: divide by zero encountered in log\n",
      "  mfcc[n] = dct(np.log(M[n]), type=3)[1:13]\n"
     ]
    }
   ],
   "source": [
    "dataset = create_dataset(data_folder)\n",
    "\n",
    "labels = dataset.index\n",
    "features = dataset.values\n"
   ]
  },
  {
   "cell_type": "code",
   "execution_count": 6,
   "id": "140cb53c-10b7-4559-851e-69b5e6d4ab95",
   "metadata": {},
   "outputs": [
    {
     "data": {
      "image/png": "[encoded data removed]",
      "text/plain": [
       "<Figure size 432x288 with 1 Axes>"
      ]
     },
     "metadata": {
      "needs_background": "light"
     },
     "output_type": "display_data"
    }
   ],
   "source": [
    "from sklearn.preprocessing import LabelEncoder, StandardScaler\n",
    "\n",
    "from sklearn.ensemble import RandomForestClassifier\n",
    "from sklearn.neural_network import MLPClassifier as MLP\n",
    "from sklearn.model_selection import cross_val_score\n",
    "from sklearn.metrics import confusion_matrix, ConfusionMatrixDisplay, classification_report\n",
    "\n",
    "encoder = LabelEncoder()\n",
    "\n",
    "X = dataset.values\n",
    "y = dataset.index\n",
    "\n",
    "results = []\n",
    "\n",
    "labels = [i for i in range(1,10)]\n",
    "\n",
    "\n",
    "cms = np.zeros(shape=(9,9))\n",
    "clrs = []\n",
    "\n",
    "for i in range(30):\n",
    "    X_train, X_test, y_train, y_test = train_test_split(X, y,\n",
    "                                                        test_size=0.2,\n",
    "                                                        stratify=y)\n",
    "\n",
    "    scaler = StandardScaler()\n",
    "    scaler.fit(X_train)\n",
    "    \n",
    "    X_train = scaler.transform(X_train)\n",
    "    X_test = scaler.transform(X_test)\n",
    "\n",
    "    \n",
    "    model = RandomForestClassifier(n_estimators=300,\n",
    "                                   max_features=\"log2\",\n",
    "                                   criterion=\"gini\",\n",
    "                                   class_weight=\"balanced\")\n",
    "    \n",
    "    model.fit(X_train, y_train)\n",
    "    y_pred = model.predict(X_test)\n",
    "     \n",
    "    cm = confusion_matrix(y_test, y_pred, labels=labels)\n",
    "    cms += cm\n",
    "    clrs.append(classification_report(y_test, y_pred, target_names=labels))\n",
    "\n",
    "    results.append(cross_val_score(model, X, y, cv=5).mean())\n",
    "    \n",
    "plt.plot(results)\n",
    "plt.ylim(0,1)\n",
    "plt.ylabel(\"accuracy\")\n",
    "plt.xlabel(\"iteration\")\n",
    "plt.title(\"Prediction accuracy\")\n",
    "plt.show()"
   ]
  },
  {
   "cell_type": "code",
   "execution_count": 8,
   "id": "fec6c170-070b-4d15-a516-b0b6ce6d9988",
   "metadata": {},
   "outputs": [
    {
     "data": {
      "image/png": "[encoded data removed]",
      "text/plain": [
       "<Figure size 720x360 with 1 Axes>"
      ]
     },
     "metadata": {
      "needs_background": "light"
     },
     "output_type": "display_data"
    },
    {
     "data": {
      "image/png": "[encoded data removed]",
      "text/plain": [
       "<Figure size 432x288 with 2 Axes>"
      ]
     },
     "metadata": {
      "needs_background": "light"
     },
     "output_type": "display_data"
    },
    {
     "name": "stdout",
     "output_type": "stream",
     "text": [
      "              precision    recall  f1-score   support\n",
      "\n",
      "           1       0.80      0.67      0.73         6\n",
      "           2       0.67      0.57      0.62         7\n",
      "           3       0.88      1.00      0.93         7\n",
      "           4       0.71      0.71      0.71         7\n",
      "           5       1.00      0.33      0.50         6\n",
      "           6       0.60      0.86      0.71         7\n",
      "           7       0.88      1.00      0.93         7\n",
      "           8       0.75      0.86      0.80         7\n",
      "           9       1.00      1.00      1.00         6\n",
      "\n",
      "    accuracy                           0.78        60\n",
      "   macro avg       0.81      0.78      0.77        60\n",
      "weighted avg       0.80      0.78      0.77        60\n",
      "\n"
     ]
    },
    {
     "data": {
      "text/plain": [
       "'\\n    precision = TP/(TP+FP)\\n    recall = TP/(TP+FN)\\n    f1-score = (2*recall*precision)/(recall+precision)\\n    accuracy = (TP+TN)/(TP+TN+FP+FN)\\n'"
      ]
     },
     "execution_count": 8,
     "metadata": {},
     "output_type": "execute_result"
    }
   ],
   "source": [
    "\n",
    "disp = ConfusionMatrixDisplay(confusion_matrix = cms, display_labels=labels)\n",
    "disp.plot(values_format='g')\n",
    "plt.subplots(figsize=(10,5))\n",
    "plt.title(\"Confusion matrix\")\n",
    "plt.show()\n",
    "\n",
    "print(clrs[-1])\n",
    "\"\"\"\n",
    "    precision = TP/(TP+FP)\n",
    "    recall = TP/(TP+FN)\n",
    "    f1-score = (2*recall*precision)/(recall+precision)\n",
    "    accuracy = (TP+TN)/(TP+TN+FP+FN)\n",
    "\"\"\""
   ]
  },
  {
   "cell_type": "code",
   "execution_count": null,
   "id": "bc04b8f8-5515-4778-a2ce-c9d1019a159f",
   "metadata": {},
   "outputs": [],
   "source": [
    "prediction = predict_input(\"kahdeksan_r\",model,scaler)\n",
    "print(f\"The number you said was {prediction}\")"
   ]
  },
  {
   "cell_type": "code",
   "execution_count": null,
   "id": "d8cb946f-1b28-4650-ad13-b07c87fa536f",
   "metadata": {},
   "outputs": [],
   "source": []
  }
 ],
 "metadata": {
  "kernelspec": {
   "display_name": "Python 3",
   "language": "python",
   "name": "python3"
  },
  "language_info": {
   "codemirror_mode": {
    "name": "ipython",
    "version": 3
   },
   "file_extension": ".py",
   "mimetype": "text/x-python",
   "name": "python",
   "nbconvert_exporter": "python",
   "pygments_lexer": "ipython3",
   "version": "3.9.5"
  }
 },
 "nbformat": 4,
 "nbformat_minor": 5
}
